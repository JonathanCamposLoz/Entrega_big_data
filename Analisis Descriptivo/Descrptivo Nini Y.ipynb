{
 "cells": [
  {
   "cell_type": "markdown",
   "metadata": {},
   "source": [
    "### Cargue Base de datos"
   ]
  },
  {
   "cell_type": "code",
   "execution_count": 36,
   "metadata": {},
   "outputs": [],
   "source": [
    "import pandas as pd"
   ]
  },
  {
   "cell_type": "code",
   "execution_count": 37,
   "metadata": {},
   "outputs": [],
   "source": [
    "df_data = pd.read_csv('nuevo.csv')"
   ]
  },
  {
   "cell_type": "code",
   "execution_count": 38,
   "metadata": {},
   "outputs": [
    {
     "data": {
      "text/html": [
       "<div>\n",
       "<style scoped>\n",
       "    .dataframe tbody tr th:only-of-type {\n",
       "        vertical-align: middle;\n",
       "    }\n",
       "\n",
       "    .dataframe tbody tr th {\n",
       "        vertical-align: top;\n",
       "    }\n",
       "\n",
       "    .dataframe thead th {\n",
       "        text-align: right;\n",
       "    }\n",
       "</style>\n",
       "<table border=\"1\" class=\"dataframe\">\n",
       "  <thead>\n",
       "    <tr style=\"text-align: right;\">\n",
       "      <th></th>\n",
       "      <th>Unnamed: 0</th>\n",
       "      <th>Complaint ID</th>\n",
       "    </tr>\n",
       "  </thead>\n",
       "  <tbody>\n",
       "    <tr>\n",
       "      <th>count</th>\n",
       "      <td>1.471766e+06</td>\n",
       "      <td>1.471766e+06</td>\n",
       "    </tr>\n",
       "    <tr>\n",
       "      <th>mean</th>\n",
       "      <td>7.358825e+05</td>\n",
       "      <td>2.113361e+06</td>\n",
       "    </tr>\n",
       "    <tr>\n",
       "      <th>std</th>\n",
       "      <td>4.248624e+05</td>\n",
       "      <td>1.019436e+06</td>\n",
       "    </tr>\n",
       "    <tr>\n",
       "      <th>min</th>\n",
       "      <td>0.000000e+00</td>\n",
       "      <td>1.000000e+00</td>\n",
       "    </tr>\n",
       "    <tr>\n",
       "      <th>25%</th>\n",
       "      <td>3.679412e+05</td>\n",
       "      <td>1.283665e+06</td>\n",
       "    </tr>\n",
       "    <tr>\n",
       "      <th>50%</th>\n",
       "      <td>7.358825e+05</td>\n",
       "      <td>2.367040e+06</td>\n",
       "    </tr>\n",
       "    <tr>\n",
       "      <th>75%</th>\n",
       "      <td>1.103824e+06</td>\n",
       "      <td>2.989086e+06</td>\n",
       "    </tr>\n",
       "    <tr>\n",
       "      <th>max</th>\n",
       "      <td>1.471765e+06</td>\n",
       "      <td>3.488890e+06</td>\n",
       "    </tr>\n",
       "  </tbody>\n",
       "</table>\n",
       "</div>"
      ],
      "text/plain": [
       "         Unnamed: 0  Complaint ID\n",
       "count  1.471766e+06  1.471766e+06\n",
       "mean   7.358825e+05  2.113361e+06\n",
       "std    4.248624e+05  1.019436e+06\n",
       "min    0.000000e+00  1.000000e+00\n",
       "25%    3.679412e+05  1.283665e+06\n",
       "50%    7.358825e+05  2.367040e+06\n",
       "75%    1.103824e+06  2.989086e+06\n",
       "max    1.471765e+06  3.488890e+06"
      ]
     },
     "execution_count": 38,
     "metadata": {},
     "output_type": "execute_result"
    }
   ],
   "source": [
    "df_data.describe()"
   ]
  },
  {
   "cell_type": "code",
   "execution_count": 39,
   "metadata": {},
   "outputs": [
    {
     "data": {
      "text/plain": [
       "1471766"
      ]
     },
     "execution_count": 39,
     "metadata": {},
     "output_type": "execute_result"
    }
   ],
   "source": [
    "len(df_data)"
   ]
  },
  {
   "cell_type": "code",
   "execution_count": 40,
   "metadata": {},
   "outputs": [
    {
     "name": "stdout",
     "output_type": "stream",
     "text": [
      "Unnamed: 0                      1471766\n",
      "Date received                      2959\n",
      "Product                              18\n",
      "Sub-product                          76\n",
      "Issue                               166\n",
      "Sub-issue                           218\n",
      "Consumer complaint narrative     455008\n",
      "Company public response              10\n",
      "Company                            5499\n",
      "State                                63\n",
      "ZIP code                          23545\n",
      "Tags                                  3\n",
      "Consumer consent provided?            4\n",
      "Submitted via                         6\n",
      "Date sent to company               2908\n",
      "Company response to consumer          8\n",
      "Timely response?                      2\n",
      "Consumer disputed?                    2\n",
      "Complaint ID                    1471766\n",
      "dtype: int64\n"
     ]
    }
   ],
   "source": [
    "# Contar valores únicos en cada columna\n",
    "print(df_data.nunique())"
   ]
  },
  {
   "cell_type": "code",
   "execution_count": 41,
   "metadata": {},
   "outputs": [
    {
     "data": {
      "text/html": [
       "<div>\n",
       "<style scoped>\n",
       "    .dataframe tbody tr th:only-of-type {\n",
       "        vertical-align: middle;\n",
       "    }\n",
       "\n",
       "    .dataframe tbody tr th {\n",
       "        vertical-align: top;\n",
       "    }\n",
       "\n",
       "    .dataframe thead th {\n",
       "        text-align: right;\n",
       "    }\n",
       "</style>\n",
       "<table border=\"1\" class=\"dataframe\">\n",
       "  <thead>\n",
       "    <tr style=\"text-align: right;\">\n",
       "      <th></th>\n",
       "      <th>Unnamed: 0</th>\n",
       "      <th>Date received</th>\n",
       "      <th>Product</th>\n",
       "      <th>Sub-product</th>\n",
       "      <th>Issue</th>\n",
       "      <th>Sub-issue</th>\n",
       "      <th>Consumer complaint narrative</th>\n",
       "      <th>Company public response</th>\n",
       "      <th>Company</th>\n",
       "      <th>State</th>\n",
       "      <th>ZIP code</th>\n",
       "      <th>Tags</th>\n",
       "      <th>Consumer consent provided?</th>\n",
       "      <th>Submitted via</th>\n",
       "      <th>Date sent to company</th>\n",
       "      <th>Company response to consumer</th>\n",
       "      <th>Timely response?</th>\n",
       "      <th>Consumer disputed?</th>\n",
       "      <th>Complaint ID</th>\n",
       "    </tr>\n",
       "  </thead>\n",
       "  <tbody>\n",
       "    <tr>\n",
       "      <th>0</th>\n",
       "      <td>0</td>\n",
       "      <td>08/09/2015</td>\n",
       "      <td>Credit reporting</td>\n",
       "      <td>NaN</td>\n",
       "      <td>Incorrect information on credit report</td>\n",
       "      <td>Information is not mine</td>\n",
       "      <td>NaN</td>\n",
       "      <td>Company chooses not to provide a public response</td>\n",
       "      <td>Experian Information Solutions Inc.</td>\n",
       "      <td>NJ</td>\n",
       "      <td>08872</td>\n",
       "      <td>NaN</td>\n",
       "      <td>Consent not provided</td>\n",
       "      <td>Web</td>\n",
       "      <td>08/09/2015</td>\n",
       "      <td>Closed with non-monetary relief</td>\n",
       "      <td>Yes</td>\n",
       "      <td>No</td>\n",
       "      <td>1509954</td>\n",
       "    </tr>\n",
       "    <tr>\n",
       "      <th>1</th>\n",
       "      <td>1</td>\n",
       "      <td>12/23/2019</td>\n",
       "      <td>Student loan</td>\n",
       "      <td>Federal student loan servicing</td>\n",
       "      <td>Dealing with your lender or servicer</td>\n",
       "      <td>Trouble with how payments are being handled</td>\n",
       "      <td>NaN</td>\n",
       "      <td>NaN</td>\n",
       "      <td>AES/PHEAA</td>\n",
       "      <td>MA</td>\n",
       "      <td>019XX</td>\n",
       "      <td>NaN</td>\n",
       "      <td>NaN</td>\n",
       "      <td>Web</td>\n",
       "      <td>12/23/2019</td>\n",
       "      <td>Closed with explanation</td>\n",
       "      <td>Yes</td>\n",
       "      <td>NaN</td>\n",
       "      <td>3475943</td>\n",
       "    </tr>\n",
       "    <tr>\n",
       "      <th>2</th>\n",
       "      <td>2</td>\n",
       "      <td>01/29/2019</td>\n",
       "      <td>Credit reporting, credit repair services, or o...</td>\n",
       "      <td>Credit reporting</td>\n",
       "      <td>Problem with a credit reporting company's inve...</td>\n",
       "      <td>Was not notified of investigation status or re...</td>\n",
       "      <td>NaN</td>\n",
       "      <td>NaN</td>\n",
       "      <td>EQUIFAX, INC.</td>\n",
       "      <td>NY</td>\n",
       "      <td>10801</td>\n",
       "      <td>NaN</td>\n",
       "      <td>Consent not provided</td>\n",
       "      <td>Web</td>\n",
       "      <td>01/30/2019</td>\n",
       "      <td>Closed with non-monetary relief</td>\n",
       "      <td>Yes</td>\n",
       "      <td>NaN</td>\n",
       "      <td>3136759</td>\n",
       "    </tr>\n",
       "    <tr>\n",
       "      <th>3</th>\n",
       "      <td>3</td>\n",
       "      <td>08/19/2015</td>\n",
       "      <td>Mortgage</td>\n",
       "      <td>Conventional adjustable mortgage (ARM)</td>\n",
       "      <td>Loan servicing, payments, escrow account</td>\n",
       "      <td>NaN</td>\n",
       "      <td>NaN</td>\n",
       "      <td>Company chooses not to provide a public response</td>\n",
       "      <td>WELLS FARGO &amp; COMPANY</td>\n",
       "      <td>CA</td>\n",
       "      <td>94526</td>\n",
       "      <td>NaN</td>\n",
       "      <td>Consent not provided</td>\n",
       "      <td>Web</td>\n",
       "      <td>08/19/2015</td>\n",
       "      <td>Closed with explanation</td>\n",
       "      <td>Yes</td>\n",
       "      <td>No</td>\n",
       "      <td>1527601</td>\n",
       "    </tr>\n",
       "    <tr>\n",
       "      <th>4</th>\n",
       "      <td>4</td>\n",
       "      <td>03/04/2016</td>\n",
       "      <td>Credit card</td>\n",
       "      <td>NaN</td>\n",
       "      <td>Billing disputes</td>\n",
       "      <td>NaN</td>\n",
       "      <td>I am dissatisfied with the current outcome of ...</td>\n",
       "      <td>NaN</td>\n",
       "      <td>DISCOVER BANK</td>\n",
       "      <td>NV</td>\n",
       "      <td>891XX</td>\n",
       "      <td>NaN</td>\n",
       "      <td>Consent provided</td>\n",
       "      <td>Web</td>\n",
       "      <td>03/04/2016</td>\n",
       "      <td>Closed with explanation</td>\n",
       "      <td>Yes</td>\n",
       "      <td>Yes</td>\n",
       "      <td>1816726</td>\n",
       "    </tr>\n",
       "  </tbody>\n",
       "</table>\n",
       "</div>"
      ],
      "text/plain": [
       "   Unnamed: 0 Date received  \\\n",
       "0           0    08/09/2015   \n",
       "1           1    12/23/2019   \n",
       "2           2    01/29/2019   \n",
       "3           3    08/19/2015   \n",
       "4           4    03/04/2016   \n",
       "\n",
       "                                             Product  \\\n",
       "0                                   Credit reporting   \n",
       "1                                       Student loan   \n",
       "2  Credit reporting, credit repair services, or o...   \n",
       "3                                           Mortgage   \n",
       "4                                        Credit card   \n",
       "\n",
       "                              Sub-product  \\\n",
       "0                                     NaN   \n",
       "1          Federal student loan servicing   \n",
       "2                        Credit reporting   \n",
       "3  Conventional adjustable mortgage (ARM)   \n",
       "4                                     NaN   \n",
       "\n",
       "                                               Issue  \\\n",
       "0             Incorrect information on credit report   \n",
       "1               Dealing with your lender or servicer   \n",
       "2  Problem with a credit reporting company's inve...   \n",
       "3           Loan servicing, payments, escrow account   \n",
       "4                                   Billing disputes   \n",
       "\n",
       "                                           Sub-issue  \\\n",
       "0                            Information is not mine   \n",
       "1        Trouble with how payments are being handled   \n",
       "2  Was not notified of investigation status or re...   \n",
       "3                                                NaN   \n",
       "4                                                NaN   \n",
       "\n",
       "                        Consumer complaint narrative  \\\n",
       "0                                                NaN   \n",
       "1                                                NaN   \n",
       "2                                                NaN   \n",
       "3                                                NaN   \n",
       "4  I am dissatisfied with the current outcome of ...   \n",
       "\n",
       "                            Company public response  \\\n",
       "0  Company chooses not to provide a public response   \n",
       "1                                               NaN   \n",
       "2                                               NaN   \n",
       "3  Company chooses not to provide a public response   \n",
       "4                                               NaN   \n",
       "\n",
       "                               Company State ZIP code Tags  \\\n",
       "0  Experian Information Solutions Inc.    NJ    08872  NaN   \n",
       "1                            AES/PHEAA    MA    019XX  NaN   \n",
       "2                        EQUIFAX, INC.    NY    10801  NaN   \n",
       "3                WELLS FARGO & COMPANY    CA    94526  NaN   \n",
       "4                        DISCOVER BANK    NV    891XX  NaN   \n",
       "\n",
       "  Consumer consent provided? Submitted via Date sent to company  \\\n",
       "0       Consent not provided           Web           08/09/2015   \n",
       "1                        NaN           Web           12/23/2019   \n",
       "2       Consent not provided           Web           01/30/2019   \n",
       "3       Consent not provided           Web           08/19/2015   \n",
       "4           Consent provided           Web           03/04/2016   \n",
       "\n",
       "      Company response to consumer Timely response? Consumer disputed?  \\\n",
       "0  Closed with non-monetary relief              Yes                 No   \n",
       "1          Closed with explanation              Yes                NaN   \n",
       "2  Closed with non-monetary relief              Yes                NaN   \n",
       "3          Closed with explanation              Yes                 No   \n",
       "4          Closed with explanation              Yes                Yes   \n",
       "\n",
       "   Complaint ID  \n",
       "0       1509954  \n",
       "1       3475943  \n",
       "2       3136759  \n",
       "3       1527601  \n",
       "4       1816726  "
      ]
     },
     "execution_count": 41,
     "metadata": {},
     "output_type": "execute_result"
    }
   ],
   "source": [
    "# Visualizar las primeras filas del DataFrame\n",
    "df_data.head()"
   ]
  },
  {
   "cell_type": "code",
   "execution_count": 18,
   "metadata": {},
   "outputs": [
    {
     "name": "stdout",
     "output_type": "stream",
     "text": [
      "Unnamed: 0\n",
      "Date received\n",
      "Product\n",
      "Sub-product\n",
      "Issue\n",
      "Sub-issue\n",
      "Consumer complaint narrative\n",
      "Company public response\n",
      "Company\n",
      "State\n",
      "ZIP code\n",
      "Tags\n",
      "Consumer consent provided?\n",
      "Submitted via\n",
      "Date sent to company\n",
      "Company response to consumer\n",
      "Timely response?\n",
      "Consumer disputed?\n",
      "Complaint ID\n"
     ]
    }
   ],
   "source": [
    "### Vizualizar las columnas del archivo\n",
    "for i in df_data:\n",
    "    print(i)"
   ]
  },
  {
   "cell_type": "code",
   "execution_count": 19,
   "metadata": {},
   "outputs": [
    {
     "name": "stdout",
     "output_type": "stream",
     "text": [
      "No hay valores nulos en la columna 'Complaint ID'.\n"
     ]
    }
   ],
   "source": [
    "### Validar datos nulos\n",
    "if df_data['Complaint ID'].isnull().any():\n",
    "    print(\"Hay valores nulos en la columna 'Complaint ID'.\")\n",
    "else:\n",
    "    print(\"No hay valores nulos en la columna 'Complaint ID'.\")"
   ]
  },
  {
   "cell_type": "markdown",
   "metadata": {},
   "source": [
    "#### La llave principal es Complaint ID"
   ]
  },
  {
   "cell_type": "code",
   "execution_count": 20,
   "metadata": {},
   "outputs": [],
   "source": [
    "import matplotlib.pyplot as plt"
   ]
  },
  {
   "cell_type": "code",
   "execution_count": 21,
   "metadata": {},
   "outputs": [],
   "source": [
    "import matplotlib.pyplot as plt"
   ]
  },
  {
   "cell_type": "markdown",
   "metadata": {},
   "source": [
    "##### La base de datos no contiene variables numericas, por lo anterior se realizara un analisis de frecuencia por categoria y su proporcion."
   ]
  },
  {
   "cell_type": "code",
   "execution_count": 22,
   "metadata": {},
   "outputs": [],
   "source": [
    "### Listar variables categoricas\n",
    "variables_categoricas = ['Product', 'Issue']"
   ]
  },
  {
   "cell_type": "code",
   "execution_count": 23,
   "metadata": {},
   "outputs": [
    {
     "name": "stdout",
     "output_type": "stream",
     "text": [
      "\n",
      "Resumen para las 10 categorías más frecuentes de 'Product':\n",
      "Product\n",
      "Credit reporting, credit repair services, or other personal consumer reports    322817\n",
      "Mortgage                                                                        293191\n",
      "Debt collection                                                                 275584\n",
      "Credit reporting                                                                140432\n",
      "Credit card                                                                      89190\n",
      "Bank account or service                                                          86206\n",
      "Credit card or prepaid card                                                      65270\n",
      "Student loan                                                                     55838\n",
      "Checking or savings account                                                      55452\n",
      "Consumer Loan                                                                    31604\n",
      "Name: count, dtype: int64\n",
      "\n",
      "Resumen para las 10 categorías más frecuentes de 'Issue':\n",
      "Issue\n",
      "Incorrect information on your report                                                198687\n",
      "Loan modification,collection,foreclosure                                            112309\n",
      "Incorrect information on credit report                                              102686\n",
      "Loan servicing, payments, escrow account                                             77333\n",
      "Problem with a credit reporting company's investigation into an existing problem     73335\n",
      "Cont'd attempts collect debt not owed                                                60682\n",
      "Attempts to collect debt not owed                                                    58234\n",
      "Improper use of your report                                                          41348\n",
      "Communication tactics                                                                38557\n",
      "Account opening, closing, or management                                              37961\n",
      "Name: count, dtype: int64\n"
     ]
    }
   ],
   "source": [
    "###Iterar sobre las variables categóricas\n",
    "for variable in variables_categoricas:\n",
    "    \n",
    " # Obtener las 10 categorías más frecuentes\n",
    "   top_10_categorias = df_data[variable].value_counts().head(10)\n",
    "       # Mostrar frecuencias y proporciones\n",
    "\n",
    "   print(f\"\\nResumen para las 10 categorías más frecuentes de '{variable}':\")\n",
    "   print(top_10_categorias)"
   ]
  },
  {
   "cell_type": "code",
   "execution_count": 24,
   "metadata": {},
   "outputs": [
    {
     "name": "stdout",
     "output_type": "stream",
     "text": [
      "Moda para'Issue': Incorrect information on your report\n"
     ]
    }
   ],
   "source": [
    "### Calcular la moda\n",
    "moda = df_data[variable].mode().iloc[0]\n",
    "print(f\"Moda para'{variable}': {moda}\")"
   ]
  },
  {
   "cell_type": "code",
   "execution_count": 25,
   "metadata": {},
   "outputs": [
    {
     "data": {
      "image/png": "[encoded data removed]",
      "text/plain": [
       "<Figure size 800x600 with 1 Axes>"
      ]
     },
     "metadata": {},
     "output_type": "display_data"
    }
   ],
   "source": [
    "# Visualizar la distribución\n",
    "plt.figure(figsize=(8, 6))\n",
    "top_10_categorias.plot(kind='bar', color='skyblue')\n",
    "plt.title(f'Distribución de las 10 categorías más frecuentes de {variable}')\n",
    "plt.xlabel(variable)\n",
    "plt.ylabel('Frecuencia')\n",
    "plt.show()"
   ]
  },
  {
   "cell_type": "code",
   "execution_count": 26,
   "metadata": {},
   "outputs": [],
   "source": [
    "# Calcular la distribución de la variable categórica\n",
    "distribucion = df_data[variable].value_counts(normalize=True)\n"
   ]
  },
  {
   "cell_type": "code",
   "execution_count": 27,
   "metadata": {},
   "outputs": [
    {
     "name": "stdout",
     "output_type": "stream",
     "text": [
      "\n",
      "Distribución de 'Issue':\n",
      "Issue\n",
      "Incorrect information on your report                                                0.134999\n",
      "Loan modification,collection,foreclosure                                            0.076309\n",
      "Incorrect information on credit report                                              0.069771\n",
      "Loan servicing, payments, escrow account                                            0.052544\n",
      "Problem with a credit reporting company's investigation into an existing problem    0.049828\n",
      "                                                                                      ...   \n",
      "Lender sold the property                                                            0.000005\n",
      "Property was sold                                                                   0.000003\n",
      "Problem with an overdraft                                                           0.000003\n",
      "Lender damaged or destroyed property                                                0.000002\n",
      "Property was damaged or destroyed property                                          0.000002\n",
      "Name: proportion, Length: 166, dtype: float64\n"
     ]
    }
   ],
   "source": [
    " # Mostrar la distribución y la frecuencia en cada categoria.\n",
    "print(f\"\\nDistribución de '{variable}':\")\n",
    "print(distribucion)"
   ]
  },
  {
   "cell_type": "code",
   "execution_count": 18,
   "metadata": {},
   "outputs": [],
   "source": [
    "\n",
    "# Crear tablas de contingencia para dos variables categóricas\n",
    "tabla_contingencia = pd.crosstab(df_data['Product'], df_data['Complaint ID'])"
   ]
  },
  {
   "cell_type": "code",
   "execution_count": 19,
   "metadata": {},
   "outputs": [
    {
     "name": "stdout",
     "output_type": "stream",
     "text": [
      "Tabla de Contingencia:\n",
      "Complaint ID                                        1        5        7        \\\n",
      "Product                                                                         \n",
      "Bank account or service                                   0        0        0   \n",
      "Checking or savings account                               0        0        0   \n",
      "Consumer Loan                                             0        0        0   \n",
      "Credit card                                               1        0        0   \n",
      "Credit card or prepaid card                               0        0        0   \n",
      "Credit reporting                                          0        0        0   \n",
      "Credit reporting, credit repair services, or ot...        0        0        0   \n",
      "Debt collection                                           0        0        0   \n",
      "Money transfer, virtual currency, or money service        0        0        0   \n",
      "Money transfers                                           0        0        0   \n",
      "Mortgage                                                  0        1        1   \n",
      "Other financial service                                   0        0        0   \n",
      "Payday loan                                               0        0        0   \n",
      "Payday loan, title loan, or personal loan                 0        0        0   \n",
      "Prepaid card                                              0        0        0   \n",
      "Student loan                                              0        0        0   \n",
      "Vehicle loan or lease                                     0        0        0   \n",
      "Virtual currency                                          0        0        0   \n",
      "\n",
      "Complaint ID                                        16       20       22       \\\n",
      "Product                                                                         \n",
      "Bank account or service                                   0        0        0   \n",
      "Checking or savings account                               0        0        0   \n",
      "Consumer Loan                                             0        0        0   \n",
      "Credit card                                               0        0        1   \n",
      "Credit card or prepaid card                               0        0        0   \n",
      "Credit reporting                                          0        0        0   \n",
      "Credit reporting, credit repair services, or ot...        0        0        0   \n",
      "Debt collection                                           0        0        0   \n",
      "Money transfer, virtual currency, or money service        0        0        0   \n",
      "Money transfers                                           0        0        0   \n",
      "Mortgage                                                  1        1        0   \n",
      "Other financial service                                   0        0        0   \n",
      "Payday loan                                               0        0        0   \n",
      "Payday loan, title loan, or personal loan                 0        0        0   \n",
      "Prepaid card                                              0        0        0   \n",
      "Student loan                                              0        0        0   \n",
      "Vehicle loan or lease                                     0        0        0   \n",
      "Virtual currency                                          0        0        0   \n",
      "\n",
      "Complaint ID                                        24       26       27       \\\n",
      "Product                                                                         \n",
      "Bank account or service                                   0        0        0   \n",
      "Checking or savings account                               0        0        0   \n",
      "Consumer Loan                                             0        0        0   \n",
      "Credit card                                               0        0        0   \n",
      "Credit card or prepaid card                               0        0        0   \n",
      "Credit reporting                                          0        0        0   \n",
      "Credit reporting, credit repair services, or ot...        0        0        0   \n",
      "Debt collection                                           0        0        0   \n",
      "Money transfer, virtual currency, or money service        0        0        0   \n",
      "Money transfers                                           0        0        0   \n",
      "Mortgage                                                  1        1        1   \n",
      "Other financial service                                   0        0        0   \n",
      "Payday loan                                               0        0        0   \n",
      "Payday loan, title loan, or personal loan                 0        0        0   \n",
      "Prepaid card                                              0        0        0   \n",
      "Student loan                                              0        0        0   \n",
      "Vehicle loan or lease                                     0        0        0   \n",
      "Virtual currency                                          0        0        0   \n",
      "\n",
      "Complaint ID                                        36       ...  3488115  \\\n",
      "Product                                                      ...            \n",
      "Bank account or service                                   0  ...        0   \n",
      "Checking or savings account                               0  ...        0   \n",
      "Consumer Loan                                             0  ...        0   \n",
      "Credit card                                               0  ...        0   \n",
      "Credit card or prepaid card                               0  ...        0   \n",
      "Credit reporting                                          0  ...        0   \n",
      "Credit reporting, credit repair services, or ot...        0  ...        0   \n",
      "Debt collection                                           0  ...        1   \n",
      "Money transfer, virtual currency, or money service        0  ...        0   \n",
      "Money transfers                                           0  ...        0   \n",
      "Mortgage                                                  1  ...        0   \n",
      "Other financial service                                   0  ...        0   \n",
      "Payday loan                                               0  ...        0   \n",
      "Payday loan, title loan, or personal loan                 0  ...        0   \n",
      "Prepaid card                                              0  ...        0   \n",
      "Student loan                                              0  ...        0   \n",
      "Vehicle loan or lease                                     0  ...        0   \n",
      "Virtual currency                                          0  ...        0   \n",
      "\n",
      "Complaint ID                                        3488129  3488177  3488305  \\\n",
      "Product                                                                         \n",
      "Bank account or service                                   0        0        0   \n",
      "Checking or savings account                               1        1        0   \n",
      "Consumer Loan                                             0        0        0   \n",
      "Credit card                                               0        0        0   \n",
      "Credit card or prepaid card                               0        0        0   \n",
      "Credit reporting                                          0        0        0   \n",
      "Credit reporting, credit repair services, or ot...        0        0        1   \n",
      "Debt collection                                           0        0        0   \n",
      "Money transfer, virtual currency, or money service        0        0        0   \n",
      "Money transfers                                           0        0        0   \n",
      "Mortgage                                                  0        0        0   \n",
      "Other financial service                                   0        0        0   \n",
      "Payday loan                                               0        0        0   \n",
      "Payday loan, title loan, or personal loan                 0        0        0   \n",
      "Prepaid card                                              0        0        0   \n",
      "Student loan                                              0        0        0   \n",
      "Vehicle loan or lease                                     0        0        0   \n",
      "Virtual currency                                          0        0        0   \n",
      "\n",
      "Complaint ID                                        3488431  3488784  3488825  \\\n",
      "Product                                                                         \n",
      "Bank account or service                                   0        0        0   \n",
      "Checking or savings account                               1        0        0   \n",
      "Consumer Loan                                             0        0        0   \n",
      "Credit card                                               0        0        0   \n",
      "Credit card or prepaid card                               0        0        0   \n",
      "Credit reporting                                          0        0        0   \n",
      "Credit reporting, credit repair services, or ot...        0        0        0   \n",
      "Debt collection                                           0        0        0   \n",
      "Money transfer, virtual currency, or money service        0        0        0   \n",
      "Money transfers                                           0        0        0   \n",
      "Mortgage                                                  0        1        0   \n",
      "Other financial service                                   0        0        0   \n",
      "Payday loan                                               0        0        0   \n",
      "Payday loan, title loan, or personal loan                 0        0        1   \n",
      "Prepaid card                                              0        0        0   \n",
      "Student loan                                              0        0        0   \n",
      "Vehicle loan or lease                                     0        0        0   \n",
      "Virtual currency                                          0        0        0   \n",
      "\n",
      "Complaint ID                                        3488851  3488855  3488890  \n",
      "Product                                                                        \n",
      "Bank account or service                                   0        0        0  \n",
      "Checking or savings account                               0        0        0  \n",
      "Consumer Loan                                             0        0        0  \n",
      "Credit card                                               0        0        0  \n",
      "Credit card or prepaid card                               0        0        0  \n",
      "Credit reporting                                          0        0        0  \n",
      "Credit reporting, credit repair services, or ot...        1        0        0  \n",
      "Debt collection                                           0        1        0  \n",
      "Money transfer, virtual currency, or money service        0        0        0  \n",
      "Money transfers                                           0        0        0  \n",
      "Mortgage                                                  0        0        1  \n",
      "Other financial service                                   0        0        0  \n",
      "Payday loan                                               0        0        0  \n",
      "Payday loan, title loan, or personal loan                 0        0        0  \n",
      "Prepaid card                                              0        0        0  \n",
      "Student loan                                              0        0        0  \n",
      "Vehicle loan or lease                                     0        0        0  \n",
      "Virtual currency                                          0        0        0  \n",
      "\n",
      "[18 rows x 1471766 columns]\n"
     ]
    }
   ],
   "source": [
    "# Mostrar la tabla de contingencia\n",
    "print(\"Tabla de Contingencia:\")\n",
    "print(tabla_contingencia)"
   ]
  },
  {
   "cell_type": "code",
   "execution_count": 20,
   "metadata": {},
   "outputs": [
    {
     "name": "stdout",
     "output_type": "stream",
     "text": [
      "\n",
      "Prueba de Chi-cuadrado:\n",
      "Estadístico de Chi-cuadrado = 25020021.999999605\n",
      "P-valor = 0.4990036649007299\n"
     ]
    }
   ],
   "source": [
    "## Prueba de Chi al cuadrado\n",
    "from scipy.stats import chi2_contingency\n",
    "\n",
    "# Realizar la prueba de chi-cuadrado\n",
    "chi2, p, _, _ = chi2_contingency(tabla_contingencia)\n",
    "\n",
    "# Mostrar el resultado de la prueba\n",
    "print(f\"\\nPrueba de Chi-cuadrado:\\nEstadístico de Chi-cuadrado = {chi2}\\nP-valor = {p}\")\n"
   ]
  },
  {
   "cell_type": "code",
   "execution_count": 21,
   "metadata": {},
   "outputs": [
    {
     "name": "stdout",
     "output_type": "stream",
     "text": [
      "\n",
      "Coeficiente de Cramer's V = 0.9999999999999921\n"
     ]
    }
   ],
   "source": [
    "import numpy as np\n",
    "\n",
    "# Calcular el coeficiente de Cramer's V\n",
    "n_obs = np.sum(tabla_contingencia.values)\n",
    "v_cramer = np.sqrt(chi2 / (n_obs * (min(tabla_contingencia.shape) - 1)))\n",
    "\n",
    "# Mostrar el coeficiente de Cramer's V\n",
    "print(f\"\\nCoeficiente de Cramer's V = {v_cramer}\")"
   ]
  },
  {
   "cell_type": "markdown",
   "metadata": {},
   "source": [
    "#### hay una asociación fuerte y significativa entre las dos variables categóricas product e Issue,  esto refuerza la conclusión de la prueba de chi-cuadrado que sugiere que las dos variables no son independientes entre sí."
   ]
  },
  {
   "cell_type": "code",
   "execution_count": 22,
   "metadata": {},
   "outputs": [],
   "source": [
    "# Calcular la frecuencia de cada producto en relación con 'quejas'\n",
    "quejas_por_producto = df_data.groupby('Product')['Complaint ID'].count()"
   ]
  },
  {
   "cell_type": "code",
   "execution_count": 23,
   "metadata": {},
   "outputs": [
    {
     "name": "stdout",
     "output_type": "stream",
     "text": [
      "El producto con más quejas es 'Credit reporting, credit repair services, or other personal consumer reports' con 322817 quejas.\n"
     ]
    }
   ],
   "source": [
    "# Encontrar el producto con más Issues\n",
    "producto_mas_quejas = quejas_por_producto.idxmax()\n",
    "cantidad_quejas = quejas_por_producto.max()\n",
    "\n",
    "print(f\"El producto con más quejas es '{producto_mas_quejas}' con {cantidad_quejas} quejas.\")"
   ]
  },
  {
   "cell_type": "code",
   "execution_count": 24,
   "metadata": {},
   "outputs": [
    {
     "data": {
      "image/png": "[encoded data removed]",
      "text/plain": [
       "<Figure size 1200x800 with 1 Axes>"
      ]
     },
     "metadata": {},
     "output_type": "display_data"
    }
   ],
   "source": [
    "# Visualizar la distribución de Issues por producto (opcional)\n",
    "plt.figure(figsize=(12, 8))\n",
    "quejas_por_producto.sort_values(ascending=False).plot(kind='bar', color='skyblue')\n",
    "plt.title('Distribución de Quejas por Producto')\n",
    "plt.xlabel('Producto')\n",
    "plt.ylabel('Número de Quejas')\n",
    "plt.show()"
   ]
  },
  {
   "cell_type": "code",
   "execution_count": null,
   "metadata": {},
   "outputs": [],
   "source": []
  },
  {
   "cell_type": "code",
   "execution_count": 25,
   "metadata": {},
   "outputs": [
    {
     "data": {
      "text/html": [
       "<div>\n",
       "<style scoped>\n",
       "    .dataframe tbody tr th:only-of-type {\n",
       "        vertical-align: middle;\n",
       "    }\n",
       "\n",
       "    .dataframe tbody tr th {\n",
       "        vertical-align: top;\n",
       "    }\n",
       "\n",
       "    .dataframe thead th {\n",
       "        text-align: right;\n",
       "    }\n",
       "</style>\n",
       "<table border=\"1\" class=\"dataframe\">\n",
       "  <thead>\n",
       "    <tr style=\"text-align: right;\">\n",
       "      <th></th>\n",
       "      <th>Product</th>\n",
       "      <th>Date received</th>\n",
       "    </tr>\n",
       "    <tr>\n",
       "      <th>Product</th>\n",
       "      <th></th>\n",
       "      <th></th>\n",
       "    </tr>\n",
       "  </thead>\n",
       "  <tbody>\n",
       "    <tr>\n",
       "      <th>Bank account or service</th>\n",
       "      <td>Bank account or service</td>\n",
       "      <td>86206</td>\n",
       "    </tr>\n",
       "    <tr>\n",
       "      <th>Checking or savings account</th>\n",
       "      <td>Checking or savings account</td>\n",
       "      <td>55452</td>\n",
       "    </tr>\n",
       "    <tr>\n",
       "      <th>Consumer Loan</th>\n",
       "      <td>Consumer Loan</td>\n",
       "      <td>31604</td>\n",
       "    </tr>\n",
       "    <tr>\n",
       "      <th>Credit card</th>\n",
       "      <td>Credit card</td>\n",
       "      <td>89190</td>\n",
       "    </tr>\n",
       "    <tr>\n",
       "      <th>Credit card or prepaid card</th>\n",
       "      <td>Credit card or prepaid card</td>\n",
       "      <td>65270</td>\n",
       "    </tr>\n",
       "  </tbody>\n",
       "</table>\n",
       "</div>"
      ],
      "text/plain": [
       "                                                 Product  Date received\n",
       "Product                                                                \n",
       "Bank account or service          Bank account or service          86206\n",
       "Checking or savings account  Checking or savings account          55452\n",
       "Consumer Loan                              Consumer Loan          31604\n",
       "Credit card                                  Credit card          89190\n",
       "Credit card or prepaid card  Credit card or prepaid card          65270"
      ]
     },
     "execution_count": 25,
     "metadata": {},
     "output_type": "execute_result"
    }
   ],
   "source": [
    "temporal = df_data.groupby('Product').agg({'Product': 'first', 'Date received': 'count'})\n",
    "temporal.head()"
   ]
  },
  {
   "cell_type": "code",
   "execution_count": 27,
   "metadata": {},
   "outputs": [],
   "source": [
    "import plotly.express as px"
   ]
  },
  {
   "cell_type": "code",
   "execution_count": 28,
   "metadata": {},
   "outputs": [
    {
     "data": {
      "application/vnd.plotly.v1+json": {
       "config": {
        "plotlyServerURL": "https://plot.ly"
       },
       "data": [
        {
         "domain": {
          "x": [
           0,
           1
          ],
          "y": [
           0,
           1
          ]
         },
         "hovertemplate": "Product=%{label}<br>Date received=%{value}<extra></extra>",
         "labels": [
          "Bank account or service",
          "Checking or savings account",
          "Consumer Loan",
          "Credit card",
          "Credit card or prepaid card",
          "Credit reporting",
          "Credit reporting, credit repair services, or other personal consumer reports",
          "Debt collection",
          "Money transfer, virtual currency, or money service",
          "Money transfers",
          "Mortgage",
          "Other financial service",
          "Payday loan",
          "Payday loan, title loan, or personal loan",
          "Prepaid card",
          "Student loan",
          "Vehicle loan or lease",
          "Virtual currency"
         ],
         "legendgroup": "",
         "name": "",
         "showlegend": true,
         "type": "pie",
         "values": [
          86206,
          55452,
          31604,
          89190,
          65270,
          140432,
          322817,
          275584,
          13742,
          5354,
          293191,
          1059,
          5543,
          11607,
          3819,
          55838,
          15040,
          18
         ]
        }
       ],
       "layout": {
        "legend": {
         "tracegroupgap": 0
        },
        "template": {
         "data": {
          "bar": [
           {
            "error_x": {
             "color": "#2a3f5f"
            },
            "error_y": {
             "color": "#2a3f5f"
            },
            "marker": {
             "line": {
              "color": "#E5ECF6",
              "width": 0.5
             },
             "pattern": {
              "fillmode": "overlay",
              "size": 10,
              "solidity": 0.2
             }
            },
            "type": "bar"
           }
          ],
          "barpolar": [
           {
            "marker": {
             "line": {
              "color": "#E5ECF6",
              "width": 0.5
             },
             "pattern": {
              "fillmode": "overlay",
              "size": 10,
              "solidity": 0.2
             }
            },
            "type": "barpolar"
           }
          ],
          "carpet": [
           {
            "aaxis": {
             "endlinecolor": "#2a3f5f",
             "gridcolor": "white",
             "linecolor": "white",
             "minorgridcolor": "white",
             "startlinecolor": "#2a3f5f"
            },
            "baxis": {
             "endlinecolor": "#2a3f5f",
             "gridcolor": "white",
             "linecolor": "white",
             "minorgridcolor": "white",
             "startlinecolor": "#2a3f5f"
            },
            "type": "carpet"
           }
          ],
          "choropleth": [
           {
            "colorbar": {
             "outlinewidth": 0,
             "ticks": ""
            },
            "type": "choropleth"
           }
          ],
          "contour": [
           {
            "colorbar": {
             "outlinewidth": 0,
             "ticks": ""
            },
            "colorscale": [
             [
              0,
              "#0d0887"
             ],
             [
              0.1111111111111111,
              "#46039f"
             ],
             [
              0.2222222222222222,
              "#7201a8"
             ],
             [
              0.3333333333333333,
              "#9c179e"
             ],
             [
              0.4444444444444444,
              "#bd3786"
             ],
             [
              0.5555555555555556,
              "#d8576b"
             ],
             [
              0.6666666666666666,
              "#ed7953"
             ],
             [
              0.7777777777777778,
              "#fb9f3a"
             ],
             [
              0.8888888888888888,
              "#fdca26"
             ],
             [
              1,
              "#f0f921"
             ]
            ],
            "type": "contour"
           }
          ],
          "contourcarpet": [
           {
            "colorbar": {
             "outlinewidth": 0,
             "ticks": ""
            },
            "type": "contourcarpet"
           }
          ],
          "heatmap": [
           {
            "colorbar": {
             "outlinewidth": 0,
             "ticks": ""
            },
            "colorscale": [
             [
              0,
              "#0d0887"
             ],
             [
              0.1111111111111111,
              "#46039f"
             ],
             [
              0.2222222222222222,
              "#7201a8"
             ],
             [
              0.3333333333333333,
              "#9c179e"
             ],
             [
              0.4444444444444444,
              "#bd3786"
             ],
             [
              0.5555555555555556,
              "#d8576b"
             ],
             [
              0.6666666666666666,
              "#ed7953"
             ],
             [
              0.7777777777777778,
              "#fb9f3a"
             ],
             [
              0.8888888888888888,
              "#fdca26"
             ],
             [
              1,
              "#f0f921"
             ]
            ],
            "type": "heatmap"
           }
          ],
          "heatmapgl": [
           {
            "colorbar": {
             "outlinewidth": 0,
             "ticks": ""
            },
            "colorscale": [
             [
              0,
              "#0d0887"
             ],
             [
              0.1111111111111111,
              "#46039f"
             ],
             [
              0.2222222222222222,
              "#7201a8"
             ],
             [
              0.3333333333333333,
              "#9c179e"
             ],
             [
              0.4444444444444444,
              "#bd3786"
             ],
             [
              0.5555555555555556,
              "#d8576b"
             ],
             [
              0.6666666666666666,
              "#ed7953"
             ],
             [
              0.7777777777777778,
              "#fb9f3a"
             ],
             [
              0.8888888888888888,
              "#fdca26"
             ],
             [
              1,
              "#f0f921"
             ]
            ],
            "type": "heatmapgl"
           }
          ],
          "histogram": [
           {
            "marker": {
             "pattern": {
              "fillmode": "overlay",
              "size": 10,
              "solidity": 0.2
             }
            },
            "type": "histogram"
           }
          ],
          "histogram2d": [
           {
            "colorbar": {
             "outlinewidth": 0,
             "ticks": ""
            },
            "colorscale": [
             [
              0,
              "#0d0887"
             ],
             [
              0.1111111111111111,
              "#46039f"
             ],
             [
              0.2222222222222222,
              "#7201a8"
             ],
             [
              0.3333333333333333,
              "#9c179e"
             ],
             [
              0.4444444444444444,
              "#bd3786"
             ],
             [
              0.5555555555555556,
              "#d8576b"
             ],
             [
              0.6666666666666666,
              "#ed7953"
             ],
             [
              0.7777777777777778,
              "#fb9f3a"
             ],
             [
              0.8888888888888888,
              "#fdca26"
             ],
             [
              1,
              "#f0f921"
             ]
            ],
            "type": "histogram2d"
           }
          ],
          "histogram2dcontour": [
           {
            "colorbar": {
             "outlinewidth": 0,
             "ticks": ""
            },
            "colorscale": [
             [
              0,
              "#0d0887"
             ],
             [
              0.1111111111111111,
              "#46039f"
             ],
             [
              0.2222222222222222,
              "#7201a8"
             ],
             [
              0.3333333333333333,
              "#9c179e"
             ],
             [
              0.4444444444444444,
              "#bd3786"
             ],
             [
              0.5555555555555556,
              "#d8576b"
             ],
             [
              0.6666666666666666,
              "#ed7953"
             ],
             [
              0.7777777777777778,
              "#fb9f3a"
             ],
             [
              0.8888888888888888,
              "#fdca26"
             ],
             [
              1,
              "#f0f921"
             ]
            ],
            "type": "histogram2dcontour"
           }
          ],
          "mesh3d": [
           {
            "colorbar": {
             "outlinewidth": 0,
             "ticks": ""
            },
            "type": "mesh3d"
           }
          ],
          "parcoords": [
           {
            "line": {
             "colorbar": {
              "outlinewidth": 0,
              "ticks": ""
             }
            },
            "type": "parcoords"
           }
          ],
          "pie": [
           {
            "automargin": true,
            "type": "pie"
           }
          ],
          "scatter": [
           {
            "fillpattern": {
             "fillmode": "overlay",
             "size": 10,
             "solidity": 0.2
            },
            "type": "scatter"
           }
          ],
          "scatter3d": [
           {
            "line": {
             "colorbar": {
              "outlinewidth": 0,
              "ticks": ""
             }
            },
            "marker": {
             "colorbar": {
              "outlinewidth": 0,
              "ticks": ""
             }
            },
            "type": "scatter3d"
           }
          ],
          "scattercarpet": [
           {
            "marker": {
             "colorbar": {
              "outlinewidth": 0,
              "ticks": ""
             }
            },
            "type": "scattercarpet"
           }
          ],
          "scattergeo": [
           {
            "marker": {
             "colorbar": {
              "outlinewidth": 0,
              "ticks": ""
             }
            },
            "type": "scattergeo"
           }
          ],
          "scattergl": [
           {
            "marker": {
             "colorbar": {
              "outlinewidth": 0,
              "ticks": ""
             }
            },
            "type": "scattergl"
           }
          ],
          "scattermapbox": [
           {
            "marker": {
             "colorbar": {
              "outlinewidth": 0,
              "ticks": ""
             }
            },
            "type": "scattermapbox"
           }
          ],
          "scatterpolar": [
           {
            "marker": {
             "colorbar": {
              "outlinewidth": 0,
              "ticks": ""
             }
            },
            "type": "scatterpolar"
           }
          ],
          "scatterpolargl": [
           {
            "marker": {
             "colorbar": {
              "outlinewidth": 0,
              "ticks": ""
             }
            },
            "type": "scatterpolargl"
           }
          ],
          "scatterternary": [
           {
            "marker": {
             "colorbar": {
              "outlinewidth": 0,
              "ticks": ""
             }
            },
            "type": "scatterternary"
           }
          ],
          "surface": [
           {
            "colorbar": {
             "outlinewidth": 0,
             "ticks": ""
            },
            "colorscale": [
             [
              0,
              "#0d0887"
             ],
             [
              0.1111111111111111,
              "#46039f"
             ],
             [
              0.2222222222222222,
              "#7201a8"
             ],
             [
              0.3333333333333333,
              "#9c179e"
             ],
             [
              0.4444444444444444,
              "#bd3786"
             ],
             [
              0.5555555555555556,
              "#d8576b"
             ],
             [
              0.6666666666666666,
              "#ed7953"
             ],
             [
              0.7777777777777778,
              "#fb9f3a"
             ],
             [
              0.8888888888888888,
              "#fdca26"
             ],
             [
              1,
              "#f0f921"
             ]
            ],
            "type": "surface"
           }
          ],
          "table": [
           {
            "cells": {
             "fill": {
              "color": "#EBF0F8"
             },
             "line": {
              "color": "white"
             }
            },
            "header": {
             "fill": {
              "color": "#C8D4E3"
             },
             "line": {
              "color": "white"
             }
            },
            "type": "table"
           }
          ]
         },
         "layout": {
          "annotationdefaults": {
           "arrowcolor": "#2a3f5f",
           "arrowhead": 0,
           "arrowwidth": 1
          },
          "autotypenumbers": "strict",
          "coloraxis": {
           "colorbar": {
            "outlinewidth": 0,
            "ticks": ""
           }
          },
          "colorscale": {
           "diverging": [
            [
             0,
             "#8e0152"
            ],
            [
             0.1,
             "#c51b7d"
            ],
            [
             0.2,
             "#de77ae"
            ],
            [
             0.3,
             "#f1b6da"
            ],
            [
             0.4,
             "#fde0ef"
            ],
            [
             0.5,
             "#f7f7f7"
            ],
            [
             0.6,
             "#e6f5d0"
            ],
            [
             0.7,
             "#b8e186"
            ],
            [
             0.8,
             "#7fbc41"
            ],
            [
             0.9,
             "#4d9221"
            ],
            [
             1,
             "#276419"
            ]
           ],
           "sequential": [
            [
             0,
             "#0d0887"
            ],
            [
             0.1111111111111111,
             "#46039f"
            ],
            [
             0.2222222222222222,
             "#7201a8"
            ],
            [
             0.3333333333333333,
             "#9c179e"
            ],
            [
             0.4444444444444444,
             "#bd3786"
            ],
            [
             0.5555555555555556,
             "#d8576b"
            ],
            [
             0.6666666666666666,
             "#ed7953"
            ],
            [
             0.7777777777777778,
             "#fb9f3a"
            ],
            [
             0.8888888888888888,
             "#fdca26"
            ],
            [
             1,
             "#f0f921"
            ]
           ],
           "sequentialminus": [
            [
             0,
             "#0d0887"
            ],
            [
             0.1111111111111111,
             "#46039f"
            ],
            [
             0.2222222222222222,
             "#7201a8"
            ],
            [
             0.3333333333333333,
             "#9c179e"
            ],
            [
             0.4444444444444444,
             "#bd3786"
            ],
            [
             0.5555555555555556,
             "#d8576b"
            ],
            [
             0.6666666666666666,
             "#ed7953"
            ],
            [
             0.7777777777777778,
             "#fb9f3a"
            ],
            [
             0.8888888888888888,
             "#fdca26"
            ],
            [
             1,
             "#f0f921"
            ]
           ]
          },
          "colorway": [
           "#636efa",
           "#EF553B",
           "#00cc96",
           "#ab63fa",
           "#FFA15A",
           "#19d3f3",
           "#FF6692",
           "#B6E880",
           "#FF97FF",
           "#FECB52"
          ],
          "font": {
           "color": "#2a3f5f"
          },
          "geo": {
           "bgcolor": "white",
           "lakecolor": "white",
           "landcolor": "#E5ECF6",
           "showlakes": true,
           "showland": true,
           "subunitcolor": "white"
          },
          "hoverlabel": {
           "align": "left"
          },
          "hovermode": "closest",
          "mapbox": {
           "style": "light"
          },
          "paper_bgcolor": "white",
          "plot_bgcolor": "#E5ECF6",
          "polar": {
           "angularaxis": {
            "gridcolor": "white",
            "linecolor": "white",
            "ticks": ""
           },
           "bgcolor": "#E5ECF6",
           "radialaxis": {
            "gridcolor": "white",
            "linecolor": "white",
            "ticks": ""
           }
          },
          "scene": {
           "xaxis": {
            "backgroundcolor": "#E5ECF6",
            "gridcolor": "white",
            "gridwidth": 2,
            "linecolor": "white",
            "showbackground": true,
            "ticks": "",
            "zerolinecolor": "white"
           },
           "yaxis": {
            "backgroundcolor": "#E5ECF6",
            "gridcolor": "white",
            "gridwidth": 2,
            "linecolor": "white",
            "showbackground": true,
            "ticks": "",
            "zerolinecolor": "white"
           },
           "zaxis": {
            "backgroundcolor": "#E5ECF6",
            "gridcolor": "white",
            "gridwidth": 2,
            "linecolor": "white",
            "showbackground": true,
            "ticks": "",
            "zerolinecolor": "white"
           }
          },
          "shapedefaults": {
           "line": {
            "color": "#2a3f5f"
           }
          },
          "ternary": {
           "aaxis": {
            "gridcolor": "white",
            "linecolor": "white",
            "ticks": ""
           },
           "baxis": {
            "gridcolor": "white",
            "linecolor": "white",
            "ticks": ""
           },
           "bgcolor": "#E5ECF6",
           "caxis": {
            "gridcolor": "white",
            "linecolor": "white",
            "ticks": ""
           }
          },
          "title": {
           "x": 0.05
          },
          "xaxis": {
           "automargin": true,
           "gridcolor": "white",
           "linecolor": "white",
           "ticks": "",
           "title": {
            "standoff": 15
           },
           "zerolinecolor": "white",
           "zerolinewidth": 2
          },
          "yaxis": {
           "automargin": true,
           "gridcolor": "white",
           "linecolor": "white",
           "ticks": "",
           "title": {
            "standoff": 15
           },
           "zerolinecolor": "white",
           "zerolinewidth": 2
          }
         }
        },
        "title": {
         "text": "Distribución de Date Received por Producto"
        }
       }
      }
     },
     "metadata": {},
     "output_type": "display_data"
    }
   ],
   "source": [
    "fig = px.pie(temporal, values='Date received', names='Product', title='Distribución de Date Received por Producto')\n",
    "fig.show()"
   ]
  },
  {
   "cell_type": "code",
   "execution_count": 29,
   "metadata": {},
   "outputs": [],
   "source": [
    "###Regresion Lineal de quejas por años\n",
    "\n",
    "import pandas as pd\n",
    "from sklearn.linear_model import LinearRegression\n",
    "from sklearn.model_selection import train_test_split\n",
    "from sklearn.metrics import mean_squared_error\n",
    "import numpy as np\n"
   ]
  },
  {
   "cell_type": "code",
   "execution_count": 32,
   "metadata": {},
   "outputs": [],
   "source": [
    "df_data['Date received'] = pd.to_datetime(df_data['Date received'])"
   ]
  },
  {
   "cell_type": "code",
   "execution_count": 33,
   "metadata": {},
   "outputs": [],
   "source": [
    "# Extraer el año de 'Date received'\n",
    "df_data['Year'] = df_data['Date received'].dt.year\n"
   ]
  },
  {
   "cell_type": "code",
   "execution_count": 34,
   "metadata": {},
   "outputs": [],
   "source": [
    "# Contar la cantidad de quejas por año\n",
    "complaints_per_year = df_data.groupby('Year').size().reset_index(name='Complaints')"
   ]
  },
  {
   "cell_type": "code",
   "execution_count": 35,
   "metadata": {},
   "outputs": [
    {
     "name": "stderr",
     "output_type": "stream",
     "text": [
      "/var/folders/5x/r8y6mchs3gd07jynq08nt4h40000gn/T/ipykernel_7521/2295693027.py:3: SettingWithCopyWarning:\n",
      "\n",
      "\n",
      "A value is trying to be set on a copy of a slice from a DataFrame.\n",
      "Try using .loc[row_indexer,col_indexer] = value instead\n",
      "\n",
      "See the caveats in the documentation: https://pandas.pydata.org/pandas-docs/stable/user_guide/indexing.html#returning-a-view-versus-a-copy\n",
      "\n"
     ]
    }
   ],
   "source": [
    "# Crear un DataFrame para la regresión lineal\n",
    "regression_data = complaints_per_year[['Year']]\n",
    "regression_data['Year'] = regression_data['Year'].astype(int)\n",
    "regression_data['Complaints'] = complaints_per_year['Complaints']"
   ]
  },
  {
   "cell_type": "code",
   "execution_count": 36,
   "metadata": {},
   "outputs": [],
   "source": [
    "# Dividir los datos en conjunto de entrenamiento y conjunto de prueba\n",
    "X_train, X_test, y_train, y_test = train_test_split(regression_data[['Year']], regression_data['Complaints'], test_size=0.2, random_state=42)"
   ]
  },
  {
   "cell_type": "code",
   "execution_count": 37,
   "metadata": {},
   "outputs": [],
   "source": [
    "\n",
    "# Crear el modelo de regresión lineal\n",
    "model = LinearRegression()"
   ]
  },
  {
   "cell_type": "code",
   "execution_count": 38,
   "metadata": {},
   "outputs": [
    {
     "data": {
      "text/html": [
       "<style>#sk-container-id-1 {color: black;}#sk-container-id-1 pre{padding: 0;}#sk-container-id-1 div.sk-toggleable {background-color: white;}#sk-container-id-1 label.sk-toggleable__label {cursor: pointer;display: block;width: 100%;margin-bottom: 0;padding: 0.3em;box-sizing: border-box;text-align: center;}#sk-container-id-1 label.sk-toggleable__label-arrow:before {content: \"▸\";float: left;margin-right: 0.25em;color: #696969;}#sk-container-id-1 label.sk-toggleable__label-arrow:hover:before {color: black;}#sk-container-id-1 div.sk-estimator:hover label.sk-toggleable__label-arrow:before {color: black;}#sk-container-id-1 div.sk-toggleable__content {max-height: 0;max-width: 0;overflow: hidden;text-align: left;background-color: #f0f8ff;}#sk-container-id-1 div.sk-toggleable__content pre {margin: 0.2em;color: black;border-radius: 0.25em;background-color: #f0f8ff;}#sk-container-id-1 input.sk-toggleable__control:checked~div.sk-toggleable__content {max-height: 200px;max-width: 100%;overflow: auto;}#sk-container-id-1 input.sk-toggleable__control:checked~label.sk-toggleable__label-arrow:before {content: \"▾\";}#sk-container-id-1 div.sk-estimator input.sk-toggleable__control:checked~label.sk-toggleable__label {background-color: #d4ebff;}#sk-container-id-1 div.sk-label input.sk-toggleable__control:checked~label.sk-toggleable__label {background-color: #d4ebff;}#sk-container-id-1 input.sk-hidden--visually {border: 0;clip: rect(1px 1px 1px 1px);clip: rect(1px, 1px, 1px, 1px);height: 1px;margin: -1px;overflow: hidden;padding: 0;position: absolute;width: 1px;}#sk-container-id-1 div.sk-estimator {font-family: monospace;background-color: #f0f8ff;border: 1px dotted black;border-radius: 0.25em;box-sizing: border-box;margin-bottom: 0.5em;}#sk-container-id-1 div.sk-estimator:hover {background-color: #d4ebff;}#sk-container-id-1 div.sk-parallel-item::after {content: \"\";width: 100%;border-bottom: 1px solid gray;flex-grow: 1;}#sk-container-id-1 div.sk-label:hover label.sk-toggleable__label {background-color: #d4ebff;}#sk-container-id-1 div.sk-serial::before {content: \"\";position: absolute;border-left: 1px solid gray;box-sizing: border-box;top: 0;bottom: 0;left: 50%;z-index: 0;}#sk-container-id-1 div.sk-serial {display: flex;flex-direction: column;align-items: center;background-color: white;padding-right: 0.2em;padding-left: 0.2em;position: relative;}#sk-container-id-1 div.sk-item {position: relative;z-index: 1;}#sk-container-id-1 div.sk-parallel {display: flex;align-items: stretch;justify-content: center;background-color: white;position: relative;}#sk-container-id-1 div.sk-item::before, #sk-container-id-1 div.sk-parallel-item::before {content: \"\";position: absolute;border-left: 1px solid gray;box-sizing: border-box;top: 0;bottom: 0;left: 50%;z-index: -1;}#sk-container-id-1 div.sk-parallel-item {display: flex;flex-direction: column;z-index: 1;position: relative;background-color: white;}#sk-container-id-1 div.sk-parallel-item:first-child::after {align-self: flex-end;width: 50%;}#sk-container-id-1 div.sk-parallel-item:last-child::after {align-self: flex-start;width: 50%;}#sk-container-id-1 div.sk-parallel-item:only-child::after {width: 0;}#sk-container-id-1 div.sk-dashed-wrapped {border: 1px dashed gray;margin: 0 0.4em 0.5em 0.4em;box-sizing: border-box;padding-bottom: 0.4em;background-color: white;}#sk-container-id-1 div.sk-label label {font-family: monospace;font-weight: bold;display: inline-block;line-height: 1.2em;}#sk-container-id-1 div.sk-label-container {text-align: center;}#sk-container-id-1 div.sk-container {/* jupyter's `normalize.less` sets `[hidden] { display: none; }` but bootstrap.min.css set `[hidden] { display: none !important; }` so we also need the `!important` here to be able to override the default hidden behavior on the sphinx rendered scikit-learn.org. See: https://github.com/scikit-learn/scikit-learn/issues/21755 */display: inline-block !important;position: relative;}#sk-container-id-1 div.sk-text-repr-fallback {display: none;}</style><div id=\"sk-container-id-1\" class=\"sk-top-container\"><div class=\"sk-text-repr-fallback\"><pre>LinearRegression()</pre><b>In a Jupyter environment, please rerun this cell to show the HTML representation or trust the notebook. <br />On GitHub, the HTML representation is unable to render, please try loading this page with nbviewer.org.</b></div><div class=\"sk-container\" hidden><div class=\"sk-item\"><div class=\"sk-estimator sk-toggleable\"><input class=\"sk-toggleable__control sk-hidden--visually\" id=\"sk-estimator-id-1\" type=\"checkbox\" checked><label for=\"sk-estimator-id-1\" class=\"sk-toggleable__label sk-toggleable__label-arrow\">LinearRegression</label><div class=\"sk-toggleable__content\"><pre>LinearRegression()</pre></div></div></div></div></div>"
      ],
      "text/plain": [
       "LinearRegression()"
      ]
     },
     "execution_count": 38,
     "metadata": {},
     "output_type": "execute_result"
    }
   ],
   "source": [
    "# Ajustar el modelo con el conjunto de entrenamiento\n",
    "model.fit(X_train, y_train)"
   ]
  },
  {
   "cell_type": "code",
   "execution_count": 39,
   "metadata": {},
   "outputs": [],
   "source": [
    "# Hacer predicciones en el conjunto de prueba\n",
    "predictions = model.predict(X_test)"
   ]
  },
  {
   "cell_type": "code",
   "execution_count": 40,
   "metadata": {},
   "outputs": [
    {
     "name": "stdout",
     "output_type": "stream",
     "text": [
      "Error Cuadrático Medio: 6044744752.711018\n"
     ]
    }
   ],
   "source": [
    "# Calcular el error cuadrático medio\n",
    "mse = mean_squared_error(y_test, predictions)\n",
    "print(f\"Error Cuadrático Medio: {mse}\")"
   ]
  },
  {
   "cell_type": "code",
   "execution_count": 41,
   "metadata": {},
   "outputs": [
    {
     "data": {
      "image/png": "[encoded data removed]",
      "text/plain": [
       "<Figure size 640x480 with 1 Axes>"
      ]
     },
     "metadata": {},
     "output_type": "display_data"
    }
   ],
   "source": [
    "# Visualizar el modelo\n",
    "import matplotlib.pyplot as plt\n",
    "\n",
    "plt.scatter(regression_data['Year'], regression_data['Complaints'], label='Datos reales')\n",
    "plt.plot(regression_data['Year'], model.predict(regression_data[['Year']]), color='red', label='Regresión Lineal')\n",
    "plt.xlabel('Año')\n",
    "plt.ylabel('Número de Quejas')\n",
    "plt.title('Regresión Lineal de Quejas por Año')\n",
    "plt.legend()\n",
    "plt.show()\n"
   ]
  },
  {
   "cell_type": "code",
   "execution_count": 45,
   "metadata": {},
   "outputs": [
    {
     "name": "stdout",
     "output_type": "stream",
     "text": [
      "Entropía: 2.187378516405859\n"
     ]
    }
   ],
   "source": [
    "### Calcular la entriopia\n",
    "\n",
    "from scipy.stats import entropy\n",
    "import pandas as pd\n",
    "\n",
    "# Supongamos que 'df' es tu DataFrame y 'VariableCategorica' es la columna categórica\n",
    "df_data['Product'] = df_data['Product'].astype('category')\n",
    "\n",
    "# Calcular la frecuencia de cada categoría\n",
    "frequencies = df_data['Product'].value_counts()\n",
    "\n",
    "# Calcular la entropía\n",
    "entropia = entropy(frequencies)\n",
    "\n",
    "print(f'Entropía: {entropia}')"
   ]
  },
  {
   "cell_type": "markdown",
   "metadata": {},
   "source": [
    "# COMPLAINT ID"
   ]
  },
  {
   "cell_type": "code",
   "execution_count": 55,
   "metadata": {},
   "outputs": [
    {
     "data": {
      "text/html": [
       "<div>\n",
       "<style scoped>\n",
       "    .dataframe tbody tr th:only-of-type {\n",
       "        vertical-align: middle;\n",
       "    }\n",
       "\n",
       "    .dataframe tbody tr th {\n",
       "        vertical-align: top;\n",
       "    }\n",
       "\n",
       "    .dataframe thead th {\n",
       "        text-align: right;\n",
       "    }\n",
       "</style>\n",
       "<table border=\"1\" class=\"dataframe\">\n",
       "  <thead>\n",
       "    <tr style=\"text-align: right;\">\n",
       "      <th></th>\n",
       "      <th>count</th>\n",
       "    </tr>\n",
       "    <tr>\n",
       "      <th>Complaint ID</th>\n",
       "      <th></th>\n",
       "    </tr>\n",
       "  </thead>\n",
       "  <tbody>\n",
       "    <tr>\n",
       "      <th>1509954</th>\n",
       "      <td>1</td>\n",
       "    </tr>\n",
       "    <tr>\n",
       "      <th>2048854</th>\n",
       "      <td>1</td>\n",
       "    </tr>\n",
       "    <tr>\n",
       "      <th>1684583</th>\n",
       "      <td>1</td>\n",
       "    </tr>\n",
       "    <tr>\n",
       "      <th>1345354</th>\n",
       "      <td>1</td>\n",
       "    </tr>\n",
       "    <tr>\n",
       "      <th>3057827</th>\n",
       "      <td>1</td>\n",
       "    </tr>\n",
       "    <tr>\n",
       "      <th>...</th>\n",
       "      <td>...</td>\n",
       "    </tr>\n",
       "    <tr>\n",
       "      <th>3170427</th>\n",
       "      <td>1</td>\n",
       "    </tr>\n",
       "    <tr>\n",
       "      <th>2407376</th>\n",
       "      <td>1</td>\n",
       "    </tr>\n",
       "    <tr>\n",
       "      <th>3027386</th>\n",
       "      <td>1</td>\n",
       "    </tr>\n",
       "    <tr>\n",
       "      <th>2351632</th>\n",
       "      <td>1</td>\n",
       "    </tr>\n",
       "    <tr>\n",
       "      <th>3437084</th>\n",
       "      <td>1</td>\n",
       "    </tr>\n",
       "  </tbody>\n",
       "</table>\n",
       "<p>1471766 rows × 1 columns</p>\n",
       "</div>"
      ],
      "text/plain": [
       "              count\n",
       "Complaint ID       \n",
       "1509954           1\n",
       "2048854           1\n",
       "1684583           1\n",
       "1345354           1\n",
       "3057827           1\n",
       "...             ...\n",
       "3170427           1\n",
       "2407376           1\n",
       "3027386           1\n",
       "2351632           1\n",
       "3437084           1\n",
       "\n",
       "[1471766 rows x 1 columns]"
      ]
     },
     "execution_count": 55,
     "metadata": {},
     "output_type": "execute_result"
    }
   ],
   "source": [
    "\n",
    "complaint = pd.DataFrame(df_data['Complaint ID'].value_counts())\n",
    "complaint"
   ]
  },
  {
   "cell_type": "code",
   "execution_count": 53,
   "metadata": {},
   "outputs": [
    {
     "data": {
      "image/png": "[encoded data removed]",
      "text/plain": [
       "<Figure size 1200x600 with 1 Axes>"
      ]
     },
     "metadata": {},
     "output_type": "display_data"
    }
   ],
   "source": [
    "plot =complaint.head(40).plot(kind='bar', title='Número de Reclamaciones', figsize=(12,6))\n",
    "\n",
    "# Agrega etiquetas al eje x e y\n",
    "plt.xlabel('Índice')  # Puedes cambiar 'Índice' por la etiqueta adecuada\n",
    "plt.ylabel('Número de Reclamaciones')\n",
    "\n",
    "# Muestra la gráfica\n",
    "plt.show()"
   ]
  },
  {
   "cell_type": "markdown",
   "metadata": {},
   "source": [
    "# Consumer disputed?"
   ]
  },
  {
   "cell_type": "code",
   "execution_count": 60,
   "metadata": {},
   "outputs": [
    {
     "data": {
      "text/html": [
       "<div>\n",
       "<style scoped>\n",
       "    .dataframe tbody tr th:only-of-type {\n",
       "        vertical-align: middle;\n",
       "    }\n",
       "\n",
       "    .dataframe tbody tr th {\n",
       "        vertical-align: top;\n",
       "    }\n",
       "\n",
       "    .dataframe thead th {\n",
       "        text-align: right;\n",
       "    }\n",
       "</style>\n",
       "<table border=\"1\" class=\"dataframe\">\n",
       "  <thead>\n",
       "    <tr style=\"text-align: right;\">\n",
       "      <th></th>\n",
       "      <th>count</th>\n",
       "    </tr>\n",
       "    <tr>\n",
       "      <th>Consumer disputed?</th>\n",
       "      <th></th>\n",
       "    </tr>\n",
       "  </thead>\n",
       "  <tbody>\n",
       "    <tr>\n",
       "      <th>No</th>\n",
       "      <td>620102</td>\n",
       "    </tr>\n",
       "    <tr>\n",
       "      <th>Yes</th>\n",
       "      <td>148378</td>\n",
       "    </tr>\n",
       "  </tbody>\n",
       "</table>\n",
       "</div>"
      ],
      "text/plain": [
       "                     count\n",
       "Consumer disputed?        \n",
       "No                  620102\n",
       "Yes                 148378"
      ]
     },
     "execution_count": 60,
     "metadata": {},
     "output_type": "execute_result"
    }
   ],
   "source": [
    "\n",
    "consumer_dis = pd.DataFrame(df_data['Consumer disputed?'].value_counts())\n",
    "consumer_dis"
   ]
  },
  {
   "cell_type": "code",
   "execution_count": 61,
   "metadata": {},
   "outputs": [
    {
     "data": {
      "image/png": "[encoded data removed]",
      "text/plain": [
       "<Figure size 1200x600 with 1 Axes>"
      ]
     },
     "metadata": {},
     "output_type": "display_data"
    }
   ],
   "source": [
    "plot =consumer_dis.head(40).plot(kind='bar', title='Disputa del consumidor', figsize=(12,6))\n",
    "\n",
    "# Agrega etiquetas al eje x e y\n",
    "plt.xlabel('Índice')  # Puedes cambiar 'Índice' por la etiqueta adecuada\n",
    "plt.ylabel('Número de Reclamaciones')\n",
    "\n",
    "# Muestra la gráfica\n",
    "plt.show()"
   ]
  },
  {
   "cell_type": "markdown",
   "metadata": {},
   "source": [
    "#  Timely response? "
   ]
  },
  {
   "cell_type": "code",
   "execution_count": 62,
   "metadata": {},
   "outputs": [
    {
     "data": {
      "text/html": [
       "<div>\n",
       "<style scoped>\n",
       "    .dataframe tbody tr th:only-of-type {\n",
       "        vertical-align: middle;\n",
       "    }\n",
       "\n",
       "    .dataframe tbody tr th {\n",
       "        vertical-align: top;\n",
       "    }\n",
       "\n",
       "    .dataframe thead th {\n",
       "        text-align: right;\n",
       "    }\n",
       "</style>\n",
       "<table border=\"1\" class=\"dataframe\">\n",
       "  <thead>\n",
       "    <tr style=\"text-align: right;\">\n",
       "      <th></th>\n",
       "      <th>count</th>\n",
       "    </tr>\n",
       "    <tr>\n",
       "      <th>Timely response?</th>\n",
       "      <th></th>\n",
       "    </tr>\n",
       "  </thead>\n",
       "  <tbody>\n",
       "    <tr>\n",
       "      <th>Yes</th>\n",
       "      <td>1436728</td>\n",
       "    </tr>\n",
       "    <tr>\n",
       "      <th>No</th>\n",
       "      <td>35038</td>\n",
       "    </tr>\n",
       "  </tbody>\n",
       "</table>\n",
       "</div>"
      ],
      "text/plain": [
       "                    count\n",
       "Timely response?         \n",
       "Yes               1436728\n",
       "No                  35038"
      ]
     },
     "execution_count": 62,
     "metadata": {},
     "output_type": "execute_result"
    }
   ],
   "source": [
    "Timely = pd.DataFrame(df_data['Timely response?'].value_counts())\n",
    "Timely"
   ]
  },
  {
   "cell_type": "code",
   "execution_count": 104,
   "metadata": {},
   "outputs": [
    {
     "data": {
      "image/png": "[encoded data removed]",
      "text/plain": [
       "<Figure size 1200x600 with 1 Axes>"
      ]
     },
     "metadata": {},
     "output_type": "display_data"
    }
   ],
   "source": [
    "plot =Timely.head(40).plot(kind='bar', title='Timely Response', figsize=(12,6), color='skyblue')\n",
    "\n",
    "# Agrega etiquetas al eje x e y\n",
    "plt.xlabel('Response ')  # Puedes cambiar 'Índice' por la etiqueta adecuada\n",
    "plt.ylabel('Cantidad')\n",
    "\n",
    "# Muestra la gráfica\n",
    "plt.show()"
   ]
  },
  {
   "cell_type": "markdown",
   "metadata": {},
   "source": [
    "# Company response to consumer:"
   ]
  },
  {
   "cell_type": "code",
   "execution_count": 64,
   "metadata": {},
   "outputs": [
    {
     "data": {
      "text/html": [
       "<div>\n",
       "<style scoped>\n",
       "    .dataframe tbody tr th:only-of-type {\n",
       "        vertical-align: middle;\n",
       "    }\n",
       "\n",
       "    .dataframe tbody tr th {\n",
       "        vertical-align: top;\n",
       "    }\n",
       "\n",
       "    .dataframe thead th {\n",
       "        text-align: right;\n",
       "    }\n",
       "</style>\n",
       "<table border=\"1\" class=\"dataframe\">\n",
       "  <thead>\n",
       "    <tr style=\"text-align: right;\">\n",
       "      <th></th>\n",
       "      <th>count</th>\n",
       "    </tr>\n",
       "    <tr>\n",
       "      <th>Company response to consumer</th>\n",
       "      <th></th>\n",
       "    </tr>\n",
       "  </thead>\n",
       "  <tbody>\n",
       "    <tr>\n",
       "      <th>Closed with explanation</th>\n",
       "      <td>1145354</td>\n",
       "    </tr>\n",
       "    <tr>\n",
       "      <th>Closed with non-monetary relief</th>\n",
       "      <td>187868</td>\n",
       "    </tr>\n",
       "    <tr>\n",
       "      <th>Closed with monetary relief</th>\n",
       "      <td>81860</td>\n",
       "    </tr>\n",
       "    <tr>\n",
       "      <th>Closed without relief</th>\n",
       "      <td>17868</td>\n",
       "    </tr>\n",
       "    <tr>\n",
       "      <th>Closed</th>\n",
       "      <td>17611</td>\n",
       "    </tr>\n",
       "    <tr>\n",
       "      <th>In progress</th>\n",
       "      <td>8836</td>\n",
       "    </tr>\n",
       "    <tr>\n",
       "      <th>Untimely response</th>\n",
       "      <td>7064</td>\n",
       "    </tr>\n",
       "    <tr>\n",
       "      <th>Closed with relief</th>\n",
       "      <td>5304</td>\n",
       "    </tr>\n",
       "  </tbody>\n",
       "</table>\n",
       "</div>"
      ],
      "text/plain": [
       "                                   count\n",
       "Company response to consumer            \n",
       "Closed with explanation          1145354\n",
       "Closed with non-monetary relief   187868\n",
       "Closed with monetary relief        81860\n",
       "Closed without relief              17868\n",
       "Closed                             17611\n",
       "In progress                         8836\n",
       "Untimely response                   7064\n",
       "Closed with relief                  5304"
      ]
     },
     "execution_count": 64,
     "metadata": {},
     "output_type": "execute_result"
    }
   ],
   "source": [
    "Company_response = pd.DataFrame(df_data['Company response to consumer'].value_counts())\n",
    "Company_response"
   ]
  },
  {
   "cell_type": "code",
   "execution_count": 102,
   "metadata": {},
   "outputs": [
    {
     "data": {
      "image/png": "[encoded data removed]",
      "text/plain": [
       "<Figure size 1200x600 with 1 Axes>"
      ]
     },
     "metadata": {},
     "output_type": "display_data"
    }
   ],
   "source": [
    "plot =Company_response.head(40).plot(kind='bar', title='Company Response To Cosumer', figsize=(12,6), color= 'skyblue')\n",
    "\n",
    "# Agrega etiquetas al eje x e y\n",
    "plt.xlabel('Response to consumer')  # Puedes cambiar 'Índice' por la etiqueta adecuada\n",
    "plt.ylabel('Cantidad')\n",
    "\n",
    "# Muestra la gráfica\n",
    "plt.show()"
   ]
  },
  {
   "cell_type": "markdown",
   "metadata": {},
   "source": [
    "# Date received"
   ]
  },
  {
   "cell_type": "code",
   "execution_count": 67,
   "metadata": {},
   "outputs": [],
   "source": [
    "df_data['Date received'] = pd.to_datetime(df_data['Date received'])"
   ]
  },
  {
   "cell_type": "code",
   "execution_count": 68,
   "metadata": {},
   "outputs": [],
   "source": [
    "# Extraer el año de 'Date received'\n",
    "df_data['Year'] = df_data['Date received'].dt.year\n"
   ]
  },
  {
   "cell_type": "code",
   "execution_count": 70,
   "metadata": {},
   "outputs": [
    {
     "data": {
      "text/html": [
       "<div>\n",
       "<style scoped>\n",
       "    .dataframe tbody tr th:only-of-type {\n",
       "        vertical-align: middle;\n",
       "    }\n",
       "\n",
       "    .dataframe tbody tr th {\n",
       "        vertical-align: top;\n",
       "    }\n",
       "\n",
       "    .dataframe thead th {\n",
       "        text-align: right;\n",
       "    }\n",
       "</style>\n",
       "<table border=\"1\" class=\"dataframe\">\n",
       "  <thead>\n",
       "    <tr style=\"text-align: right;\">\n",
       "      <th></th>\n",
       "      <th>Year</th>\n",
       "      <th>Complaints</th>\n",
       "    </tr>\n",
       "  </thead>\n",
       "  <tbody>\n",
       "    <tr>\n",
       "      <th>0</th>\n",
       "      <td>2011</td>\n",
       "      <td>2536</td>\n",
       "    </tr>\n",
       "    <tr>\n",
       "      <th>1</th>\n",
       "      <td>2012</td>\n",
       "      <td>72373</td>\n",
       "    </tr>\n",
       "    <tr>\n",
       "      <th>2</th>\n",
       "      <td>2013</td>\n",
       "      <td>108217</td>\n",
       "    </tr>\n",
       "    <tr>\n",
       "      <th>3</th>\n",
       "      <td>2014</td>\n",
       "      <td>153044</td>\n",
       "    </tr>\n",
       "    <tr>\n",
       "      <th>4</th>\n",
       "      <td>2015</td>\n",
       "      <td>168475</td>\n",
       "    </tr>\n",
       "    <tr>\n",
       "      <th>5</th>\n",
       "      <td>2016</td>\n",
       "      <td>191470</td>\n",
       "    </tr>\n",
       "    <tr>\n",
       "      <th>6</th>\n",
       "      <td>2017</td>\n",
       "      <td>242967</td>\n",
       "    </tr>\n",
       "    <tr>\n",
       "      <th>7</th>\n",
       "      <td>2018</td>\n",
       "      <td>257333</td>\n",
       "    </tr>\n",
       "    <tr>\n",
       "      <th>8</th>\n",
       "      <td>2019</td>\n",
       "      <td>274770</td>\n",
       "    </tr>\n",
       "    <tr>\n",
       "      <th>9</th>\n",
       "      <td>2020</td>\n",
       "      <td>581</td>\n",
       "    </tr>\n",
       "  </tbody>\n",
       "</table>\n",
       "</div>"
      ],
      "text/plain": [
       "   Year  Complaints\n",
       "0  2011        2536\n",
       "1  2012       72373\n",
       "2  2013      108217\n",
       "3  2014      153044\n",
       "4  2015      168475\n",
       "5  2016      191470\n",
       "6  2017      242967\n",
       "7  2018      257333\n",
       "8  2019      274770\n",
       "9  2020         581"
      ]
     },
     "execution_count": 70,
     "metadata": {},
     "output_type": "execute_result"
    }
   ],
   "source": [
    "# Contar la cantidad de quejas por año\n",
    "complaints_per_year = df_data.groupby('Year').size().reset_index(name='Complaints')\n",
    "complaints_per_year"
   ]
  },
  {
   "cell_type": "code",
   "execution_count": 99,
   "metadata": {},
   "outputs": [
    {
     "data": {
      "image/png": "[encoded data removed]",
      "text/plain": [
       "<Figure size 640x480 with 1 Axes>"
      ]
     },
     "metadata": {},
     "output_type": "display_data"
    }
   ],
   "source": [
    "import plotly.express as px\n",
    "\n",
    "plt.bar(complaints_per_year['Year'], complaints_per_year['Complaints'], color='skyblue')\n",
    "\n",
    "plt.xlabel('Year')\n",
    "plt.ylabel('Complaints')\n",
    "plt.title('Date Received')\n",
    "\n",
    "plt.show()"
   ]
  },
  {
   "cell_type": "code",
   "execution_count": 80,
   "metadata": {},
   "outputs": [
    {
     "name": "stdout",
     "output_type": "stream",
     "text": [
      "    Year  Month  Complaints\n",
      "0   2011     12        2335\n",
      "1   2012      1        3222\n",
      "2   2012      2        3501\n",
      "3   2012      3        6218\n",
      "4   2012      4        5689\n",
      "..   ...    ...         ...\n",
      "94  2019     10       25647\n",
      "95  2019     11       22755\n",
      "96  2019     12       19909\n",
      "97  2020      1         581\n",
      "98  2020     12          56\n",
      "\n",
      "[99 rows x 3 columns]\n"
     ]
    }
   ],
   "source": [
    "# Agrupar por año y mes y contar el número de quejas\n",
    "complaints_per_month_year = df_data.groupby(['Year', 'Month']).size().reset_index(name='Complaints')\n",
    "\n",
    "# Visualizar el DataFrame resultante\n",
    "print(complaints_per_month_year)\n"
   ]
  },
  {
   "cell_type": "code",
   "execution_count": 82,
   "metadata": {},
   "outputs": [
    {
     "name": "stdout",
     "output_type": "stream",
     "text": [
      "    Month  Complaints\n",
      "0       1       18939\n",
      "1       2       20211\n",
      "2       3       23418\n",
      "3       4       22917\n",
      "4       5       23857\n",
      "5       6       23355\n",
      "6       7       25095\n",
      "7       8       26063\n",
      "8       9       23585\n",
      "9      10       25647\n",
      "10     11       22755\n",
      "11     12       19909\n"
     ]
    }
   ],
   "source": [
    "# Define el año que deseas consultar\n",
    "year_to_query = 2019  #  año que deseas consultar\n",
    "\n",
    "# Filtra el DataFrame para incluir solo el año de interés\n",
    "df_year_filtered = df_data[df_data['Year'] == year_to_query]\n",
    "\n",
    "# Agrupa por mes y cuenta el número de quejas\n",
    "complaints_per_month = df_year_filtered.groupby('Month').size().reset_index(name='Complaints')\n",
    "\n",
    "# Visualizar el DataFrame resultante\n",
    "print(complaints_per_month)\n",
    "\n"
   ]
  },
  {
   "cell_type": "markdown",
   "metadata": {},
   "source": [
    "# Date sent to company"
   ]
  },
  {
   "cell_type": "code",
   "execution_count": 75,
   "metadata": {},
   "outputs": [],
   "source": [
    "df_data['Date sent to company'] = pd.to_datetime(df_data['Date sent to company'])"
   ]
  },
  {
   "cell_type": "code",
   "execution_count": 76,
   "metadata": {},
   "outputs": [],
   "source": [
    "# Extraer el año de 'Date sent to company'\n",
    "df_data['Year'] = df_data['Date sent to company'].dt.year"
   ]
  },
  {
   "cell_type": "code",
   "execution_count": 77,
   "metadata": {},
   "outputs": [
    {
     "data": {
      "text/html": [
       "<div>\n",
       "<style scoped>\n",
       "    .dataframe tbody tr th:only-of-type {\n",
       "        vertical-align: middle;\n",
       "    }\n",
       "\n",
       "    .dataframe tbody tr th {\n",
       "        vertical-align: top;\n",
       "    }\n",
       "\n",
       "    .dataframe thead th {\n",
       "        text-align: right;\n",
       "    }\n",
       "</style>\n",
       "<table border=\"1\" class=\"dataframe\">\n",
       "  <thead>\n",
       "    <tr style=\"text-align: right;\">\n",
       "      <th></th>\n",
       "      <th>Year</th>\n",
       "      <th>Complaints</th>\n",
       "    </tr>\n",
       "  </thead>\n",
       "  <tbody>\n",
       "    <tr>\n",
       "      <th>0</th>\n",
       "      <td>2011</td>\n",
       "      <td>2335</td>\n",
       "    </tr>\n",
       "    <tr>\n",
       "      <th>1</th>\n",
       "      <td>2012</td>\n",
       "      <td>71603</td>\n",
       "    </tr>\n",
       "    <tr>\n",
       "      <th>2</th>\n",
       "      <td>2013</td>\n",
       "      <td>107406</td>\n",
       "    </tr>\n",
       "    <tr>\n",
       "      <th>3</th>\n",
       "      <td>2014</td>\n",
       "      <td>153454</td>\n",
       "    </tr>\n",
       "    <tr>\n",
       "      <th>4</th>\n",
       "      <td>2015</td>\n",
       "      <td>168663</td>\n",
       "    </tr>\n",
       "    <tr>\n",
       "      <th>5</th>\n",
       "      <td>2016</td>\n",
       "      <td>191380</td>\n",
       "    </tr>\n",
       "    <tr>\n",
       "      <th>6</th>\n",
       "      <td>2017</td>\n",
       "      <td>243433</td>\n",
       "    </tr>\n",
       "    <tr>\n",
       "      <th>7</th>\n",
       "      <td>2018</td>\n",
       "      <td>257104</td>\n",
       "    </tr>\n",
       "    <tr>\n",
       "      <th>8</th>\n",
       "      <td>2019</td>\n",
       "      <td>275751</td>\n",
       "    </tr>\n",
       "    <tr>\n",
       "      <th>9</th>\n",
       "      <td>2020</td>\n",
       "      <td>637</td>\n",
       "    </tr>\n",
       "  </tbody>\n",
       "</table>\n",
       "</div>"
      ],
      "text/plain": [
       "   Year  Complaints\n",
       "0  2011        2335\n",
       "1  2012       71603\n",
       "2  2013      107406\n",
       "3  2014      153454\n",
       "4  2015      168663\n",
       "5  2016      191380\n",
       "6  2017      243433\n",
       "7  2018      257104\n",
       "8  2019      275751\n",
       "9  2020         637"
      ]
     },
     "execution_count": 77,
     "metadata": {},
     "output_type": "execute_result"
    }
   ],
   "source": [
    "# Contar la cantidad de quejas por año\n",
    "Date_sent_company = df_data.groupby('Year').size().reset_index(name='Complaints')\n",
    "Date_sent_company"
   ]
  },
  {
   "cell_type": "code",
   "execution_count": 98,
   "metadata": {},
   "outputs": [
    {
     "data": {
      "image/png": "[encoded data removed]",
      "text/plain": [
       "<Figure size 640x480 with 1 Axes>"
      ]
     },
     "metadata": {},
     "output_type": "display_data"
    }
   ],
   "source": [
    "import plotly.express as px\n",
    "\n",
    "plt.bar(Date_sent_company['Year'], Date_sent_company['Complaints'], color='skyblue')\n",
    "\n",
    "plt.xlabel('Year')\n",
    "plt.ylabel('Complaints')\n",
    "plt.title('Date Sent to Company')\n",
    "\n",
    "plt.show()"
   ]
  }
 ],
 "metadata": {
  "kernelspec": {
   "display_name": "clase4",
   "language": "python",
   "name": "python3"
  },
  "language_info": {
   "codemirror_mode": {
    "name": "ipython",
    "version": 3
   },
   "file_extension": ".py",
   "mimetype": "text/x-python",
   "name": "python",
   "nbconvert_exporter": "python",
   "pygments_lexer": "ipython3",
   "version": "3.11.5"
  }
 },
 "nbformat": 4,
 "nbformat_minor": 2
}
